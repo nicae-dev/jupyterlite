{
  "nbformat": 4,
  "nbformat_minor": 0,
  "metadata": {
    "colab": {
      "provenance": []
    },
    "kernelspec": {
      "name": "python3",
      "display_name": "Python 3"
    },
    "language_info": {
      "name": "python"
    }
  },
  "cells": [
    {
      "cell_type": "code",
      "source": [
        "import mercury as mr\n",
        "app = mr.App(title=\"Какой-то заголовок\",show_code=True,show_prompt=True,continuous_update=True,static_notebook=False,show_sidebar=True,full_screen=False,allow_download=False,allow_share=False,stop_on_error=False)"
      ],
      "metadata": {
        "id": "3R1bw5fj6o1d"
      },
      "execution_count": null,
      "outputs": []
    },
    {
      "cell_type": "markdown",
      "source": [
        "## Введите число в поле ввода. отобразится квадрат числа"
      ],
      "metadata": {
        "id": "EnWTZ4aBPOPT"
      }
    },
    {
      "cell_type": "code",
      "source": [
        "number = mr.Numeric(value=0, min=0, max=10, label=\"Введите число для подсчета квадрата\", step=1)\n",
        "number.value**2"
      ],
      "metadata": {
        "id": "mRryxsy8PLhc"
      },
      "execution_count": null,
      "outputs": []
    },
    {
      "cell_type": "markdown",
      "source": [
        "## Выберите \"запустить код\", чтобы код выполнился"
      ],
      "metadata": {
        "id": "N9vyAFQlP7-b"
      }
    },
    {
      "cell_type": "code",
      "source": [
        "#button = mr.Button(label=\"Run something\", style=\"primary\")\n",
        "#if button.clicked:\n",
        "my_flag = mr.Checkbox(value=False, label=\"Запуск кода\")\n",
        "\n",
        "# read checkbox value\n",
        "if my_flag.value:\n",
        "  print(2**10)\n",
        "  print(2**2)"
      ],
      "metadata": {
        "id": "vs_Tt5SiPnGQ"
      },
      "execution_count": null,
      "outputs": []
    }
  ]
}