{
  "nbformat": 4,
  "nbformat_minor": 0,
  "metadata": {
    "colab": {
      "provenance": []
    },
    "kernelspec": {
      "name": "python3",
      "display_name": "Python 3"
    },
    "language_info": {
      "name": "python"
    }
  },
  "cells": [
    {
      "cell_type": "code",
      "source": [
        "print(2**10)\n",
        "print(2**2)"
      ],
      "metadata": {
        "id": "3R1bw5fj6o1d"
      },
      "execution_count": null,
      "outputs": []
    }
  ]
}